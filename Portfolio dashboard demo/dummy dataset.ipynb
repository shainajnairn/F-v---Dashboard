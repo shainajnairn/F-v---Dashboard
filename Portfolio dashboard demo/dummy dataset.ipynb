{
 "cells": [
  {
   "cell_type": "code",
   "execution_count": 4,
   "metadata": {},
   "outputs": [
    {
     "name": "stdout",
     "output_type": "stream",
     "text": [
      "Collecting pandas\n",
      "  Using cached pandas-2.2.3-cp311-cp311-win_amd64.whl.metadata (19 kB)\n",
      "Requirement already satisfied: numpy>=1.23.2 in c:\\users\\nived\\anaconda3\\envs\\cs5180\\lib\\site-packages (from pandas) (1.26.4)\n",
      "Requirement already satisfied: python-dateutil>=2.8.2 in c:\\users\\nived\\anaconda3\\envs\\cs5180\\lib\\site-packages (from pandas) (2.9.0.post0)\n",
      "Requirement already satisfied: pytz>=2020.1 in c:\\users\\nived\\anaconda3\\envs\\cs5180\\lib\\site-packages (from pandas) (2025.1)\n",
      "Collecting tzdata>=2022.7 (from pandas)\n",
      "  Using cached tzdata-2025.1-py2.py3-none-any.whl.metadata (1.4 kB)\n",
      "Requirement already satisfied: six>=1.5 in c:\\users\\nived\\anaconda3\\envs\\cs5180\\lib\\site-packages (from python-dateutil>=2.8.2->pandas) (1.16.0)\n",
      "Using cached pandas-2.2.3-cp311-cp311-win_amd64.whl (11.6 MB)\n",
      "Using cached tzdata-2025.1-py2.py3-none-any.whl (346 kB)\n",
      "Installing collected packages: tzdata, pandas\n",
      "Successfully installed pandas-2.2.3 tzdata-2025.1\n"
     ]
    }
   ],
   "source": [
    "!pip install pandas\n",
    "\n"
   ]
  },
  {
   "cell_type": "code",
   "execution_count": 5,
   "metadata": {},
   "outputs": [],
   "source": [
    "import pandas as pd\n",
    "import random\n",
    "import numpy as np"
   ]
  },
  {
   "cell_type": "code",
   "execution_count": 6,
   "metadata": {},
   "outputs": [],
   "source": [
    "# Define dummy company names and industries\n",
    "company_names = [\"EcoEnergy\", \"BlueTech\", \"SolarWave\", \"AIGrid\", \"GreenFusion\", \"HydroNext\", \"ClimateCore\", \"FusionX\", \"TerraVolt\", \"WindSynergy\"]\n",
    "industries = [\"Climate Tech\", \"Deep Tech\", \"AI\", \"Renewable Energy\", \"Space Tech\", \"Ocean Tech\"]"
   ]
  },
  {
   "cell_type": "code",
   "execution_count": 7,
   "metadata": {},
   "outputs": [],
   "source": [
    "# Generate dummy data\n",
    "num_companies = 40\n",
    "data = {\n",
    "    \"Company Name\": random.choices(company_names, k=num_companies),\n",
    "    \"Industry\": random.choices(industries, k=num_companies),\n",
    "    \"Founded Year\": [random.randint(2005, 2022) for _ in range(num_companies)],\n",
    "    \"HQ Location\": random.choices([\"San Francisco, USA\", \"Berlin, Germany\", \"Bangalore, India\", \"London, UK\", \"Toronto, Canada\"], k=num_companies),\n",
    "    \"Founder Count\": [random.randint(1, 5) for _ in range(num_companies)],\n",
    "    \"Total Employees\": [random.randint(10, 500) for _ in range(num_companies)],\n",
    "\n",
    "    # Financial Metrics\n",
    "    \"Annual Recurring Revenue (USD)\": [random.randint(500000, 50000000) for _ in range(num_companies)],\n",
    "    \"Burn Rate (USD)\": [random.randint(10000, 1000000) for _ in range(num_companies)],\n",
    "    \"Runway (Months)\": [random.randint(6, 36) for _ in range(num_companies)],\n",
    "    \"EBITDA (USD)\": [random.randint(-200000, 1000000) for _ in range(num_companies)],\n",
    "    \"Gross Margin (%)\": [round(random.uniform(20, 80), 2) for _ in range(num_companies)],\n",
    "    \"Revenue Growth Rate (%)\": [round(random.uniform(-10, 100), 2) for _ in range(num_companies)],\n",
    "\n",
    "    # Investment Metrics\n",
    "    \"Total Capital Raised (USD)\": [random.randint(1000000, 100000000) for _ in range(num_companies)],\n",
    "    \"Last Funding Round\": random.choices([\"Seed\", \"Series A\", \"Series B\", \"Series C\"], k=num_companies),\n",
    "    \"Valuation (USD)\": [random.randint(5000000, 500000000) for _ in range(num_companies)],\n",
    "    \"Investor Count\": [random.randint(1, 10) for _ in range(num_companies)],\n",
    "    \"Exit Status\": random.choices([\"Active\", \"IPO\", \"Acquired\", \"Failed\"], k=num_companies),\n",
    "\n",
    "    # Operational Metrics\n",
    "    \"Product Development Stage\": random.choices([\"Prototype\", \"MVP\", \"Scaling\", \"Mature\"], k=num_companies),\n",
    "    \"Customer Growth Rate (%)\": [round(random.uniform(-5, 50), 2) for _ in range(num_companies)],\n",
    "    \"Sustainability Score\": [random.randint(1, 10) for _ in range(num_companies)]\n",
    "}"
   ]
  },
  {
   "cell_type": "code",
   "execution_count": 8,
   "metadata": {},
   "outputs": [],
   "source": [
    "# Convert to DataFrame\n",
    "df = pd.DataFrame(data)"
   ]
  },
  {
   "cell_type": "code",
   "execution_count": 13,
   "metadata": {},
   "outputs": [],
   "source": [
    "csv_path = \"C:/Users/nived/OneDrive/Desktop/Spring 2025/frankenbuild ventures/data.csv\"\n",
    "df.to_csv(csv_path, index=False)"
   ]
  },
  {
   "cell_type": "code",
   "execution_count": 14,
   "metadata": {},
   "outputs": [
    {
     "ename": "ModuleNotFoundError",
     "evalue": "No module named 'ace_tools'",
     "output_type": "error",
     "traceback": [
      "\u001b[1;31m---------------------------------------------------------------------------\u001b[0m",
      "\u001b[1;31mModuleNotFoundError\u001b[0m                       Traceback (most recent call last)",
      "Cell \u001b[1;32mIn[14], line 2\u001b[0m\n\u001b[0;32m      1\u001b[0m \u001b[38;5;66;03m# Display DataFrame\u001b[39;00m\n\u001b[1;32m----> 2\u001b[0m \u001b[38;5;28;01mimport\u001b[39;00m\u001b[38;5;250m \u001b[39m\u001b[38;5;21;01mace_tools\u001b[39;00m\u001b[38;5;250m \u001b[39m\u001b[38;5;28;01mas\u001b[39;00m\u001b[38;5;250m \u001b[39m\u001b[38;5;21;01mtools\u001b[39;00m\n\u001b[0;32m      3\u001b[0m tools\u001b[38;5;241m.\u001b[39mdisplay_dataframe_to_user(name\u001b[38;5;241m=\u001b[39m\u001b[38;5;124m\"\u001b[39m\u001b[38;5;124mDummy Portfolio Data\u001b[39m\u001b[38;5;124m\"\u001b[39m, dataframe\u001b[38;5;241m=\u001b[39mdf)\n",
      "\u001b[1;31mModuleNotFoundError\u001b[0m: No module named 'ace_tools'"
     ]
    }
   ],
   "source": [
    "# Display DataFrame\n",
    "import ace_tools as tools\n",
    "tools.display_dataframe_to_user(name=\"Dummy Portfolio Data\", dataframe=df)"
   ]
  },
  {
   "cell_type": "code",
   "execution_count": 15,
   "metadata": {},
   "outputs": [
    {
     "name": "stdout",
     "output_type": "stream",
     "text": [
      "Collecting ace\n",
      "  Downloading ace-0.3.3-py3-none-any.whl.metadata (7.8 kB)\n",
      "Collecting tools\n",
      "  Downloading tools-0.1.9.tar.gz (34 kB)\n",
      "  Preparing metadata (setup.py): started\n",
      "  Preparing metadata (setup.py): finished with status 'done'\n",
      "Requirement already satisfied: numpy in c:\\users\\nived\\anaconda3\\envs\\cs5180\\lib\\site-packages (from ace) (1.26.4)\n",
      "Requirement already satisfied: scipy>=0.17 in c:\\users\\nived\\anaconda3\\envs\\cs5180\\lib\\site-packages (from ace) (1.15.1)\n",
      "Collecting pytils (from tools)\n",
      "  Downloading pytils-0.4.1.tar.gz (99 kB)\n",
      "  Installing build dependencies: started\n",
      "  Installing build dependencies: finished with status 'done'\n",
      "  Getting requirements to build wheel: started\n",
      "  Getting requirements to build wheel: finished with status 'done'\n",
      "  Preparing metadata (pyproject.toml): started\n",
      "  Preparing metadata (pyproject.toml): finished with status 'done'\n",
      "Requirement already satisfied: six in c:\\users\\nived\\anaconda3\\envs\\cs5180\\lib\\site-packages (from tools) (1.16.0)\n",
      "Collecting lxml (from tools)\n",
      "  Downloading lxml-5.3.1-cp311-cp311-win_amd64.whl.metadata (3.8 kB)\n",
      "Downloading ace-0.3.3-py3-none-any.whl (23 kB)\n",
      "Downloading lxml-5.3.1-cp311-cp311-win_amd64.whl (3.8 MB)\n",
      "   ---------------------------------------- 0.0/3.8 MB ? eta -:--:--\n",
      "   ---------------------------------------- 3.8/3.8 MB 32.3 MB/s eta 0:00:00\n",
      "Building wheels for collected packages: tools, pytils\n",
      "  Building wheel for tools (setup.py): started\n",
      "  Building wheel for tools (setup.py): finished with status 'done'\n",
      "  Created wheel for tools: filename=tools-0.1.9-py3-none-any.whl size=46773 sha256=d46bbeadd170b7efea346c2d01d44f77fa1968854801cd7e637434cff805a79f\n",
      "  Stored in directory: c:\\users\\nived\\appdata\\local\\pip\\cache\\wheels\\bc\\d8\\9d\\52ad6058db295741fe0b776c0fcfdb6670036acab59ce4ccfd\n",
      "  Building wheel for pytils (pyproject.toml): started\n",
      "  Building wheel for pytils (pyproject.toml): finished with status 'done'\n",
      "  Created wheel for pytils: filename=pytils-0.4.1-py3-none-any.whl size=32876 sha256=bf29e718adcb5129030ff4838013e8630e27f45e2606ec2849cb253c079bd400\n",
      "  Stored in directory: c:\\users\\nived\\appdata\\local\\pip\\cache\\wheels\\66\\b9\\15\\482258065bee884b0d43bdc24b424e2cc6bde530e8e1380657\n",
      "Successfully built tools pytils\n",
      "Installing collected packages: pytils, lxml, tools, ace\n",
      "Successfully installed ace-0.3.3 lxml-5.3.1 pytils-0.4.1 tools-0.1.9\n"
     ]
    }
   ],
   "source": [
    "!pip install ace tools"
   ]
  },
  {
   "cell_type": "code",
   "execution_count": 17,
   "metadata": {},
   "outputs": [
    {
     "ename": "NameError",
     "evalue": "name 'tools' is not defined",
     "output_type": "error",
     "traceback": [
      "\u001b[1;31m---------------------------------------------------------------------------\u001b[0m",
      "\u001b[1;31mNameError\u001b[0m                                 Traceback (most recent call last)",
      "Cell \u001b[1;32mIn[17], line 2\u001b[0m\n\u001b[0;32m      1\u001b[0m \u001b[38;5;66;03m# Display DataFrame\u001b[39;00m\n\u001b[1;32m----> 2\u001b[0m \u001b[43mtools\u001b[49m\u001b[38;5;241m.\u001b[39mdisplay_dataframe_to_user(name\u001b[38;5;241m=\u001b[39m\u001b[38;5;124m\"\u001b[39m\u001b[38;5;124mDummy Portfolio Data\u001b[39m\u001b[38;5;124m\"\u001b[39m, dataframe\u001b[38;5;241m=\u001b[39mdf)\n",
      "\u001b[1;31mNameError\u001b[0m: name 'tools' is not defined"
     ]
    }
   ],
   "source": [
    "# Display DataFrame\n",
    "tools.display_dataframe_to_user(name=\"Dummy Portfolio Data\", dataframe=df)"
   ]
  },
  {
   "cell_type": "code",
   "execution_count": null,
   "metadata": {},
   "outputs": [],
   "source": [
    "# Clean and optimize the dataset for Tableau usage\n",
    "\n",
    "# Rename columns to remove special characters and spaces, making them Tableau-friendly\n",
    "df_cleaned = df.rename(columns=lambda col: col.strip().replace(\" \", \"_\").replace(\"(\", \"\").replace(\")\", \"\"))\n",
    "\n",
    "# Ensure numeric columns are correctly typed\n",
    "numeric_columns = [\n",
    "    \"Total_Employees\", \"Annual_Recurring_Revenue_USD\", \"Burn_Rate_USD\", \"Runway_Months\",\n",
    "    \"EBITDA_USD\", \"Gross_Margin_%\", \"Revenue_Growth_Rate_%\", \"Total_Capital_Raised_USD\",\n",
    "    \"Valuation_USD\", \"Investor_Count\", \"Customer_Growth_Rate_%\", \"Sustainability_Score\"\n",
    "]\n",
    "df_cleaned[numeric_columns] = df_cleaned[numeric_columns].apply(pd.to_numeric, errors='coerce')\n",
    "\n",
    "# Export the cleaned dataframe to a new CSV file\n",
    "cleaned_file_path = \"C:/Users/nived/OneDrive/Desktop/Spring 2025/frankenbuild ventures/cleaned_data_for_tableau.csv\"\n",
    "df_cleaned.to_csv(cleaned_file_path, index=False)\n",
    "\n",
    "cleaned_file_path"
   ]
  }
 ],
 "metadata": {
  "kernelspec": {
   "display_name": "CS5180",
   "language": "python",
   "name": "python3"
  },
  "language_info": {
   "codemirror_mode": {
    "name": "ipython",
    "version": 3
   },
   "file_extension": ".py",
   "mimetype": "text/x-python",
   "name": "python",
   "nbconvert_exporter": "python",
   "pygments_lexer": "ipython3",
   "version": "3.11.11"
  }
 },
 "nbformat": 4,
 "nbformat_minor": 2
}
